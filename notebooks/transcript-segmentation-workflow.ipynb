{
 "cells": [
  {
   "cell_type": "code",
   "execution_count": 1,
   "id": "2274b891",
   "metadata": {},
   "outputs": [],
   "source": [
    "from aicsimageio import AICSImage\n",
    "from tifffile import imsave\n",
    "from pathlib import Path\n",
    "import numpy as np\n",
    "import matplotlib.pyplot as plt\n",
    "from itkwidgets import view \n",
    "from aicssegmentation.core.visual import seg_fluo_side_by_side,  single_fluorescent_view, segmentation_quick_view\n",
    "plt.rcParams[\"figure.figsize\"] = [16, 12]\n",
    "\n",
    "# dots\n",
    "from aicssegmentation.core.seg_dot import dot_3d, dot_3d_wrapper \n",
    "from aicssegmentation.core.pre_processing_utils import intensity_normalization, image_smoothing_gaussian_slice_by_slice\n",
    "from skimage.morphology import remove_small_objects, watershed, dilation, erosion, ball     # function for post-processing (size filter)\n",
    "from skimage.feature import peak_local_max\n",
    "from skimage.measure import label\n",
    "from scipy.ndimage import distance_transform_edt"
   ]
  },
  {
   "cell_type": "code",
   "execution_count": 2,
   "id": "1d2e397d",
   "metadata": {},
   "outputs": [
    {
     "name": "stderr",
     "output_type": "stream",
     "text": [
      "Failed to parse XML for the provided file. Error: not well-formed (invalid token): line 1, column 0\n"
     ]
    },
    {
     "name": "stdout",
     "output_type": "stream",
     "text": [
      "(1, 1, 51, 2048, 2048)\n"
     ]
    }
   ],
   "source": [
    "filename = r\"\\\\allen\\aics\\assay-dev\\users\\Sandi\\mFISH\\notebooks\\TOP2A_007_002_bc5.tiff\"\n",
    "reader = AICSImage(filename) \n",
    "IMG = reader.data.astype(np.float32)\n",
    "\n",
    "print(IMG.shape)"
   ]
  },
  {
   "cell_type": "code",
   "execution_count": 3,
   "id": "6e89803d",
   "metadata": {},
   "outputs": [],
   "source": [
    "# N_CHANNELS = IMG.shape[1] # N_CHANNELS = IMG.shape[1] \n",
    "# MID_SLICE = np.int(0.5*IMG.shape[2])\n",
    "\n",
    "# fig, ax = plt.subplots(1, N_CHANNELS, figsize=(18,16), dpi=72, facecolor='w', edgecolor='k')\n",
    "# if N_CHANNELS==1:\n",
    "#     ax.axis('off')\n",
    "#     ax.imshow(IMG[0,0,MID_SLICE,:,:], cmap=plt.cm.gray)\n",
    "# else:\n",
    "#     for channel in range(N_CHANNELS):\n",
    "#         ax[channel].axis('off')\n",
    "#         ax[channel].imshow(IMG[0,channel,MID_SLICE,:,:], cmap=plt.cm.gray)"
   ]
  },
  {
   "cell_type": "code",
   "execution_count": 4,
   "id": "incident-sense",
   "metadata": {},
   "outputs": [
    {
     "data": {
      "text/plain": [
       "(1, 1, 51, 2048, 2048)"
      ]
     },
     "execution_count": 4,
     "metadata": {},
     "output_type": "execute_result"
    }
   ],
   "source": [
    "IMG.shape"
   ]
  },
  {
   "cell_type": "code",
   "execution_count": 5,
   "id": "8db43e88",
   "metadata": {},
   "outputs": [
    {
     "data": {
      "application/vnd.jupyter.widget-view+json": {
       "model_id": "4d3c7de786ba48ec9e9605ef8aef5ef5",
       "version_major": 2,
       "version_minor": 0
      },
      "text/plain": [
       "Viewer(geometries=[], gradient_opacity=0.22, point_sets=[], rendered_image=<itk.itkImagePython.itkImageF3; pro…"
      ]
     },
     "metadata": {},
     "output_type": "display_data"
    }
   ],
   "source": [
    "#####################\n",
    "structure_channel = 0\n",
    "#####################\n",
    "\n",
    "struct_img0 = IMG[0,structure_channel,:,:,:].copy()\n",
    "view(single_fluorescent_view(struct_img0))"
   ]
  },
  {
   "cell_type": "markdown",
   "id": "b8905783",
   "metadata": {},
   "source": [
    "<h2> Pre-Processing <h2> "
   ]
  },
  {
   "cell_type": "code",
   "execution_count": 6,
   "id": "f42b9abf",
   "metadata": {},
   "outputs": [
    {
     "name": "stdout",
     "output_type": "stream",
     "text": [
      "intensity norm: min-max norm with upper bound 5000\n"
     ]
    }
   ],
   "source": [
    "################################\n",
    "intensity_scaling_param = [5000] # original: 8000 current: 5000\n",
    "\n",
    "gaussian_smoothing_sigma = 1 \n",
    "################################\n",
    "\n",
    "# intensity normalization\n",
    "struct_img = intensity_normalization(struct_img0, scaling_param=intensity_scaling_param)\n",
    "\n",
    "# smoothing with gaussian filter\n",
    "structure_img_smooth = image_smoothing_gaussian_slice_by_slice(struct_img, sigma=gaussian_smoothing_sigma)"
   ]
  },
  {
   "cell_type": "markdown",
   "id": "e75bd8e7",
   "metadata": {},
   "source": [
    "<h2> Core Algorithm <h2>"
   ]
  },
  {
   "cell_type": "code",
   "execution_count": 7,
   "id": "e492b540",
   "metadata": {},
   "outputs": [],
   "source": [
    "################################\n",
    "## PARAMETERS for this step ##\n",
    "s3_param = [[0.9, 0.013]] # v1: [[0.7, 0.015]] v2: [[0.7, 0.03]] v3: [[0.7, 0.025]] v4: [[0.7, 0.015]] v5: [[0.9, 0.013]]\n",
    "################################\n",
    "\n",
    "bw = dot_3d_wrapper(structure_img_smooth, s3_param)"
   ]
  },
  {
   "cell_type": "code",
   "execution_count": 8,
   "id": "63595cce",
   "metadata": {},
   "outputs": [
    {
     "data": {
      "application/vnd.jupyter.widget-view+json": {
       "model_id": "c9f35c73147d413d974c91dc2e5924f4",
       "version_major": 2,
       "version_minor": 0
      },
      "text/plain": [
       "Viewer(geometries=[], gradient_opacity=0.22, point_sets=[], rendered_image=<itk.itkImagePython.itkImageUC3; pr…"
      ]
     },
     "metadata": {},
     "output_type": "display_data"
    }
   ],
   "source": [
    "# view the segmentation result\n",
    "viewer_bw = view(segmentation_quick_view(bw))\n",
    "viewer_bw"
   ]
  },
  {
   "cell_type": "markdown",
   "id": "925dc7d6",
   "metadata": {},
   "source": [
    "<h2> Post-Processing <h2>"
   ]
  },
  {
   "cell_type": "code",
   "execution_count": 54,
   "id": "70f1c6f1",
   "metadata": {},
   "outputs": [],
   "source": [
    "################################\n",
    "## PARAMETERS for this step ## (v5)\n",
    "minArea = 5 #v5: 5\n",
    "################################\n",
    "\n",
    "seg = remove_small_objects(bw>0, min_size=minArea, connectivity=1, in_place=False)"
   ]
  },
  {
   "cell_type": "code",
   "execution_count": 55,
   "id": "ac32a7a6",
   "metadata": {},
   "outputs": [],
   "source": [
    "## save segmentation \n",
    "out=seg.astype(np.uint8)\n",
    "out[out>0]=255\n",
    "\n",
    "imsave(\"TOP2A_007_002_segbc5v5.tiff\", out) "
   ]
  },
  {
   "cell_type": "code",
   "execution_count": null,
   "id": "bb663310",
   "metadata": {},
   "outputs": [],
   "source": []
  },
  {
   "cell_type": "code",
   "execution_count": null,
   "id": "played-melbourne",
   "metadata": {},
   "outputs": [],
   "source": []
  },
  {
   "cell_type": "code",
   "execution_count": null,
   "id": "laden-canyon",
   "metadata": {},
   "outputs": [],
   "source": []
  },
  {
   "cell_type": "code",
   "execution_count": null,
   "id": "rubber-directive",
   "metadata": {},
   "outputs": [],
   "source": []
  }
 ],
 "metadata": {
  "kernelspec": {
   "display_name": "Python 3",
   "language": "python",
   "name": "python3"
  },
  "language_info": {
   "codemirror_mode": {
    "name": "ipython",
    "version": 3
   },
   "file_extension": ".py",
   "mimetype": "text/x-python",
   "name": "python",
   "nbconvert_exporter": "python",
   "pygments_lexer": "ipython3",
   "version": "3.7.9"
  }
 },
 "nbformat": 4,
 "nbformat_minor": 5
}
